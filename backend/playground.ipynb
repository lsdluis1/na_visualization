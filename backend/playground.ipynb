{
 "cells": [
  {
   "cell_type": "code",
   "execution_count": 1,
   "metadata": {
    "ExecuteTime": {
     "end_time": "2021-03-06T07:23:56.211711Z",
     "start_time": "2021-03-06T07:23:52.720629Z"
    }
   },
   "outputs": [],
   "source": [
    "import numpy as np"
   ]
  },
  {
   "cell_type": "markdown",
   "metadata": {},
   "source": [
    "## Lexsort"
   ]
  },
  {
   "cell_type": "code",
   "execution_count": 27,
   "metadata": {
    "ExecuteTime": {
     "end_time": "2021-03-06T07:28:15.435921Z",
     "start_time": "2021-03-06T07:28:15.433085Z"
    }
   },
   "outputs": [],
   "source": [
    "x = np.array([[1, 3], [2, 4], [4, 2], [3, 1], [3, 2]])"
   ]
  },
  {
   "cell_type": "code",
   "execution_count": 32,
   "metadata": {
    "ExecuteTime": {
     "end_time": "2021-03-06T07:29:00.646460Z",
     "start_time": "2021-03-06T07:29:00.642543Z"
    }
   },
   "outputs": [
    {
     "data": {
      "text/plain": [
       "array([[1, 3],\n",
       "       [2, 4],\n",
       "       [3, 1],\n",
       "       [3, 2],\n",
       "       [4, 2]])"
      ]
     },
     "execution_count": 32,
     "metadata": {},
     "output_type": "execute_result"
    }
   ],
   "source": [
    "x[np.lexsort(x.T[::-1])]"
   ]
  },
  {
   "cell_type": "markdown",
   "metadata": {},
   "source": [
    "## Get x levels and decide function type"
   ]
  },
  {
   "cell_type": "code",
   "execution_count": 70,
   "metadata": {
    "ExecuteTime": {
     "end_time": "2021-03-06T07:55:05.173167Z",
     "start_time": "2021-03-06T07:55:05.170107Z"
    }
   },
   "outputs": [],
   "source": [
    "def get_x_level(x_arr, x_level_threshold):\n",
    "    diff = np.array([x_arr] * x_level_threshold.size) - np.expand_dims(x_level_threshold, axis=1)\n",
    "    is_bigger = np.where(diff > 0, 1, 0)\n",
    "    return is_bigger.sum(axis=0)\n"
   ]
  },
  {
   "cell_type": "code",
   "execution_count": null,
   "metadata": {},
   "outputs": [],
   "source": [
    "x_arr = np.arange(0, 10000)\n",
    "x_level_threshold = np.array([1000, 3000, 5000, 8000])"
   ]
  },
  {
   "cell_type": "code",
   "execution_count": 73,
   "metadata": {
    "ExecuteTime": {
     "end_time": "2021-03-06T07:55:23.659006Z",
     "start_time": "2021-03-06T07:55:23.656171Z"
    }
   },
   "outputs": [],
   "source": [
    "x_level = get_x_level(x_arr, x_level_threshold)"
   ]
  },
  {
   "cell_type": "code",
   "execution_count": 75,
   "metadata": {
    "ExecuteTime": {
     "end_time": "2021-03-06T08:00:59.371934Z",
     "start_time": "2021-03-06T08:00:59.368555Z"
    }
   },
   "outputs": [],
   "source": [
    "def get_func_index(x_arr, x_level_threshold):\n",
    "    x_level_threshold = np.unique(x_level_threshold)\n",
    "    level_num = x_level_threshold.size\n",
    "    if level_num < 2:\n",
    "        raise ValueError(\"Cannot determine function with less than two x-levels\")\n",
    "    else:\n",
    "        x_level = get_x_level(x_arr, x_level_threshold)\n",
    "        return np.clip((x_level - 1), 0, level_num - 2)\n"
   ]
  },
  {
   "cell_type": "code",
   "execution_count": 76,
   "metadata": {
    "ExecuteTime": {
     "end_time": "2021-03-06T08:01:05.627168Z",
     "start_time": "2021-03-06T08:01:05.622924Z"
    }
   },
   "outputs": [
    {
     "data": {
      "text/plain": [
       "array([0, 0, 0, ..., 2, 2, 2])"
      ]
     },
     "execution_count": 76,
     "metadata": {},
     "output_type": "execute_result"
    }
   ],
   "source": [
    "get_func_index(x_arr, x_level_threshold)"
   ]
  },
  {
   "cell_type": "code",
   "execution_count": 78,
   "metadata": {
    "ExecuteTime": {
     "end_time": "2021-03-06T08:01:28.228617Z",
     "start_time": "2021-03-06T08:01:28.093193Z"
    }
   },
   "outputs": [
    {
     "data": {
      "image/png": "[encoded data removed]",
      "text/plain": [
       "<Figure size 432x288 with 1 Axes>"
      ]
     },
     "metadata": {
      "needs_background": "light"
     },
     "output_type": "display_data"
    }
   ],
   "source": [
    "import matplotlib.pyplot as plt\n",
    "plt.plot(get_x_level(x_arr, x_level_threshold))\n",
    "plt.plot(get_func_index(x_arr, x_level_threshold))\n",
    "plt.show()"
   ]
  },
  {
   "cell_type": "code",
   "execution_count": 83,
   "metadata": {
    "ExecuteTime": {
     "end_time": "2021-03-06T08:03:11.160285Z",
     "start_time": "2021-03-06T08:03:11.156622Z"
    }
   },
   "outputs": [
    {
     "data": {
      "text/plain": [
       "array([0.000e+00, 1.000e+00, 2.000e+00, ..., 9.998e+03, 9.999e+03,\n",
       "       1.000e+04])"
      ]
     },
     "execution_count": 83,
     "metadata": {},
     "output_type": "execute_result"
    }
   ],
   "source": [
    "np.linspace(0,10000,10001)"
   ]
  },
  {
   "cell_type": "code",
   "execution_count": 85,
   "metadata": {
    "ExecuteTime": {
     "end_time": "2021-03-06T08:23:50.386463Z",
     "start_time": "2021-03-06T08:23:50.381777Z"
    }
   },
   "outputs": [
    {
     "data": {
      "text/plain": [
       "array([1, 1, 2, 5])"
      ]
     },
     "execution_count": 85,
     "metadata": {},
     "output_type": "execute_result"
    }
   ],
   "source": [
    "np.sort(np.array([1,2,1,5]))"
   ]
  },
  {
   "cell_type": "code",
   "execution_count": 88,
   "metadata": {
    "ExecuteTime": {
     "end_time": "2021-03-06T08:27:55.877491Z",
     "start_time": "2021-03-06T08:27:55.873469Z"
    }
   },
   "outputs": [
    {
     "data": {
      "text/plain": [
       "array([1.96438672e-15, 0.00000000e+00])"
      ]
     },
     "execution_count": 88,
     "metadata": {},
     "output_type": "execute_result"
    }
   ],
   "source": [
    "np.sin([100*np.pi, 0])"
   ]
  }
 ],
 "metadata": {
  "kernelspec": {
   "display_name": "Python 3",
   "language": "python",
   "name": "python3"
  },
  "language_info": {
   "codemirror_mode": {
    "name": "ipython",
    "version": 3
   },
   "file_extension": ".py",
   "mimetype": "text/x-python",
   "name": "python",
   "nbconvert_exporter": "python",
   "pygments_lexer": "ipython3",
   "version": "3.7.8"
  }
 },
 "nbformat": 4,
 "nbformat_minor": 4
}
